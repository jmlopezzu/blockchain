{
 "cells": [
  {
   "cell_type": "markdown",
   "metadata": {},
   "source": [
    "# Blockchain Introduction"
   ]
  },
  {
   "cell_type": "code",
   "execution_count": 3,
   "metadata": {},
   "outputs": [],
   "source": [
    "import hashlib\n",
    "import time"
   ]
  },
  {
   "cell_type": "markdown",
   "metadata": {},
   "source": [
    "Here, we're importing the hashlib module, which provides hashing algorithms like SHA-256 that we'll use to create hashes for our blocks. We're also importing the time module to manage timestamps for the blocks."
   ]
  },
  {
   "cell_type": "code",
   "execution_count": 4,
   "metadata": {},
   "outputs": [],
   "source": [
    "class Block:\n",
    "    def __init__(self, index, previous_hash, timestamp, data, hash):\n",
    "        self.index = index\n",
    "        self.previous_hash = previous_hash\n",
    "        self.timestamp = timestamp\n",
    "        self.data = data\n",
    "        self.hash = hash"
   ]
  },
  {
   "cell_type": "markdown",
   "metadata": {},
   "source": [
    "We define a class called Block to represent each block in the blockchain. A block contains several attributes:\n",
    "\n",
    "index: The position of the block in the blockchain.\n",
    "previous_hash: The hash of the previous block's contents.\n",
    "timestamp: The time when the block was created.\n",
    "data: The data that the block contains (in this case, just a string for simplicity).\n",
    "hash: The hash of the block's contents (including index, previous hash, timestamp, and data)."
   ]
  },
  {
   "cell_type": "code",
   "execution_count": 5,
   "metadata": {},
   "outputs": [],
   "source": [
    "def calculate_hash(index, previous_hash, timestamp, data):\n",
    "    value = str(index) + str(previous_hash) + str(timestamp) + str(data)\n",
    "    return hashlib.sha256(value.encode()).hexdigest()\n"
   ]
  },
  {
   "cell_type": "markdown",
   "metadata": {},
   "source": [
    "This function calculates the hash of a block's contents. It concatenates the block's index, previous hash, timestamp, and data into a single string, encodes it, and then uses the SHA-256 hash function to generate a hash value."
   ]
  },
  {
   "cell_type": "code",
   "execution_count": 6,
   "metadata": {},
   "outputs": [],
   "source": [
    "def create_genesis_block():\n",
    "    return Block(0, \"0\", int(time.time()), \"Genesis Block\", calculate_hash(0, \"0\", int(time.time()), \"Genesis Block\"))\n"
   ]
  },
  {
   "cell_type": "markdown",
   "metadata": {},
   "source": [
    "The create_genesis_block() function creates the very first block in the blockchain, often referred to as the \"genesis block.\" It initializes the attributes of the Block class, including setting the index to 0, previous hash to \"0\", and timestamp to the current time. It also calculates the hash for the block using the calculate_hash function."
   ]
  },
  {
   "cell_type": "code",
   "execution_count": 7,
   "metadata": {},
   "outputs": [],
   "source": [
    "def create_new_block(previous_block, data):\n",
    "    index = previous_block.index + 1\n",
    "    timestamp = int(time.time())\n",
    "    hash = calculate_hash(index, previous_block.hash, timestamp, data)\n",
    "    return Block(index, previous_block.hash, timestamp, data, hash)\n"
   ]
  },
  {
   "cell_type": "markdown",
   "metadata": {},
   "source": [
    "The create_new_block() function generates a new block by taking the previous block as an argument and the new data to be included in the block. It calculates the new index, timestamp, and hash for the new block using the previous block's information and the new data."
   ]
  },
  {
   "cell_type": "code",
   "execution_count": 8,
   "metadata": {},
   "outputs": [],
   "source": [
    "blockchain = [create_genesis_block()]\n",
    "previous_block = blockchain[0]"
   ]
  },
  {
   "cell_type": "markdown",
   "metadata": {},
   "source": [
    "We initialize the blockchain with the genesis block, and set the previous_block variable to point to the genesis block initially."
   ]
  },
  {
   "cell_type": "code",
   "execution_count": 9,
   "metadata": {},
   "outputs": [
    {
     "name": "stdout",
     "output_type": "stream",
     "text": [
      "Block #1 has been added to the blockchain!\n",
      "Hash: b9ef3aa4f0627cf8a62f140180e46ef1e9da021b2703c9215d8f20bce7b169ba\n",
      "\n",
      "Block #2 has been added to the blockchain!\n",
      "Hash: 56f41be68fabcd9a247cb49f8ca6e811b685c918eb11f52fc09cd3b422af4112\n",
      "\n",
      "Block #3 has been added to the blockchain!\n",
      "Hash: dfae3bdecf90b070beffe65c1d7c3140cf1d38e72f4e83bd7f5a03f3005d19e0\n",
      "\n",
      "Block #4 has been added to the blockchain!\n",
      "Hash: 970abb8e8280d3217b57a4e1f541f6f5767d98542cd44bd97e711ee34d791f2a\n",
      "\n",
      "Block #5 has been added to the blockchain!\n",
      "Hash: c1bfff67089f12e1ff309452aa831298a860f413a2663cf5675ace564039db50\n",
      "\n",
      "Block #6 has been added to the blockchain!\n",
      "Hash: 21ee0f151de71a223031c30bf45eb803fc92adb757c01039b75c0f33ff9e70e5\n",
      "\n",
      "Block #7 has been added to the blockchain!\n",
      "Hash: 0a5279a1463680ae2dbb2543ea6e2694b32015a5b7b8ed957fc60306f790061b\n",
      "\n",
      "Block #8 has been added to the blockchain!\n",
      "Hash: c5460d2d638c75e52af7523ef56f3c553c7d350f369f18e8ca37c2675ddfedb6\n",
      "\n",
      "Block #9 has been added to the blockchain!\n",
      "Hash: 02375dfcdafdc794f9e22430c419d1dda6f6603cd32d1a4e4e616e9931bef555\n",
      "\n",
      "Block #10 has been added to the blockchain!\n",
      "Hash: a319d5f062653986abafcc87ca5fee55674f240c1e47bd50dfb52bc3517660be\n",
      "\n"
     ]
    }
   ],
   "source": [
    "num_blocks_to_add = 10\n",
    "for _ in range(num_blocks_to_add):\n",
    "    new_data = f\"This is block #{previous_block.index + 1}\"\n",
    "    new_block = create_new_block(previous_block, new_data)\n",
    "    blockchain.append(new_block)\n",
    "    previous_block = new_block\n",
    "    print(f\"Block #{new_block.index} has been added to the blockchain!\")\n",
    "    print(f\"Hash: {new_block.hash}\\n\")"
   ]
  },
  {
   "cell_type": "markdown",
   "metadata": {},
   "source": [
    "This loop adds a specified number of new blocks to the blockchain. In each iteration, it generates new data in the form of a string indicating the block number. It then creates a new block using the create_new_block() function, appends the block to the blockchain, updates the previous_block variable, and prints information about the newly added block."
   ]
  },
  {
   "cell_type": "code",
   "execution_count": 10,
   "metadata": {},
   "outputs": [],
   "source": [
    "def verify_blockchain(blockchain):\n",
    "    for i in range(1, len(blockchain)):\n",
    "        current_block = blockchain[i]\n",
    "        previous_block = blockchain[i - 1]\n",
    "\n",
    "        if current_block.hash != calculate_hash(current_block.index, previous_block.hash, current_block.timestamp, current_block.data):\n",
    "            return False\n",
    "\n",
    "        if current_block.previous_hash != previous_block.hash:\n",
    "            return False\n",
    "\n",
    "    return True"
   ]
  },
  {
   "cell_type": "markdown",
   "metadata": {},
   "source": [
    "The verify_blockchain() function checks the integrity of the blockchain by iterating through each block (starting from the second block) and comparing the hash and previous hash values to ensure they are consistent with the calculated values. If any discrepancy is found, the function returns False. If the entire blockchain is verified without discrepancies, the function returns True."
   ]
  },
  {
   "cell_type": "code",
   "execution_count": 11,
   "metadata": {},
   "outputs": [
    {
     "name": "stdout",
     "output_type": "stream",
     "text": [
      "Blockchain integrity: True\n"
     ]
    }
   ],
   "source": [
    "print(\"Blockchain integrity:\", verify_blockchain(blockchain))\n"
   ]
  },
  {
   "cell_type": "markdown",
   "metadata": {},
   "source": [
    "Finally, this line of code verifies the integrity of the blockchain by calling the verify_blockchain() function and printing whether the blockchain is valid or not.\n",
    "\n",
    "Keep in mind that this code is a very basic and simplified example of how a blockchain works. Real-world blockchains are far more complex and involve mechanisms like consensus algorithms, decentralized networks, cryptographic signatures, and more to ensure security and reliability."
   ]
  }
 ],
 "metadata": {
  "kernelspec": {
   "display_name": "Python 3.10.11 64-bit",
   "language": "python",
   "name": "python3"
  },
  "language_info": {
   "codemirror_mode": {
    "name": "ipython",
    "version": 3
   },
   "file_extension": ".py",
   "mimetype": "text/x-python",
   "name": "python",
   "nbconvert_exporter": "python",
   "pygments_lexer": "ipython3",
   "version": "3.10.11"
  },
  "orig_nbformat": 4,
  "vscode": {
   "interpreter": {
    "hash": "bd385fe162c5ca0c84973b7dd5c518456272446b2b64e67c2a69f949ca7a1754"
   }
  }
 },
 "nbformat": 4,
 "nbformat_minor": 2
}
